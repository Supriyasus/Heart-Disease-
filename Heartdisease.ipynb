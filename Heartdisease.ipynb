{
 "cells": [
  {
   "cell_type": "code",
   "id": "initial_id",
   "metadata": {
    "collapsed": true,
    "ExecuteTime": {
     "end_time": "2024-04-24T17:33:08.100714Z",
     "start_time": "2024-04-24T17:33:08.089204Z"
    }
   },
   "source": "import pandas as pd",
   "outputs": [],
   "execution_count": 81
  },
  {
   "metadata": {
    "ExecuteTime": {
     "end_time": "2024-04-24T17:33:08.436245Z",
     "start_time": "2024-04-24T17:33:08.329062Z"
    }
   },
   "cell_type": "code",
   "source": [
    "df=pd.read_csv(\"../Dataset/heart.csv\")\n",
    "df.head()"
   ],
   "id": "c49b71540a4f3d26",
   "outputs": [
    {
     "data": {
      "text/plain": [
       "   Age Sex ChestPainType  RestingBP  Cholesterol  FastingBS RestingECG  MaxHR  \\\n",
       "0   40   M           ATA        140          289          0     Normal    172   \n",
       "1   49   F           NAP        160          180          0     Normal    156   \n",
       "2   37   M           ATA        130          283          0         ST     98   \n",
       "3   48   F           ASY        138          214          0     Normal    108   \n",
       "4   54   M           NAP        150          195          0     Normal    122   \n",
       "\n",
       "  ExerciseAngina  Oldpeak ST_Slope  HeartDisease  \n",
       "0              N      0.0       Up             0  \n",
       "1              N      1.0     Flat             1  \n",
       "2              N      0.0       Up             0  \n",
       "3              Y      1.5     Flat             1  \n",
       "4              N      0.0       Up             0  "
      ],
      "text/html": [
       "<div>\n",
       "<style scoped>\n",
       "    .dataframe tbody tr th:only-of-type {\n",
       "        vertical-align: middle;\n",
       "    }\n",
       "\n",
       "    .dataframe tbody tr th {\n",
       "        vertical-align: top;\n",
       "    }\n",
       "\n",
       "    .dataframe thead th {\n",
       "        text-align: right;\n",
       "    }\n",
       "</style>\n",
       "<table border=\"1\" class=\"dataframe\">\n",
       "  <thead>\n",
       "    <tr style=\"text-align: right;\">\n",
       "      <th></th>\n",
       "      <th>Age</th>\n",
       "      <th>Sex</th>\n",
       "      <th>ChestPainType</th>\n",
       "      <th>RestingBP</th>\n",
       "      <th>Cholesterol</th>\n",
       "      <th>FastingBS</th>\n",
       "      <th>RestingECG</th>\n",
       "      <th>MaxHR</th>\n",
       "      <th>ExerciseAngina</th>\n",
       "      <th>Oldpeak</th>\n",
       "      <th>ST_Slope</th>\n",
       "      <th>HeartDisease</th>\n",
       "    </tr>\n",
       "  </thead>\n",
       "  <tbody>\n",
       "    <tr>\n",
       "      <th>0</th>\n",
       "      <td>40</td>\n",
       "      <td>M</td>\n",
       "      <td>ATA</td>\n",
       "      <td>140</td>\n",
       "      <td>289</td>\n",
       "      <td>0</td>\n",
       "      <td>Normal</td>\n",
       "      <td>172</td>\n",
       "      <td>N</td>\n",
       "      <td>0.0</td>\n",
       "      <td>Up</td>\n",
       "      <td>0</td>\n",
       "    </tr>\n",
       "    <tr>\n",
       "      <th>1</th>\n",
       "      <td>49</td>\n",
       "      <td>F</td>\n",
       "      <td>NAP</td>\n",
       "      <td>160</td>\n",
       "      <td>180</td>\n",
       "      <td>0</td>\n",
       "      <td>Normal</td>\n",
       "      <td>156</td>\n",
       "      <td>N</td>\n",
       "      <td>1.0</td>\n",
       "      <td>Flat</td>\n",
       "      <td>1</td>\n",
       "    </tr>\n",
       "    <tr>\n",
       "      <th>2</th>\n",
       "      <td>37</td>\n",
       "      <td>M</td>\n",
       "      <td>ATA</td>\n",
       "      <td>130</td>\n",
       "      <td>283</td>\n",
       "      <td>0</td>\n",
       "      <td>ST</td>\n",
       "      <td>98</td>\n",
       "      <td>N</td>\n",
       "      <td>0.0</td>\n",
       "      <td>Up</td>\n",
       "      <td>0</td>\n",
       "    </tr>\n",
       "    <tr>\n",
       "      <th>3</th>\n",
       "      <td>48</td>\n",
       "      <td>F</td>\n",
       "      <td>ASY</td>\n",
       "      <td>138</td>\n",
       "      <td>214</td>\n",
       "      <td>0</td>\n",
       "      <td>Normal</td>\n",
       "      <td>108</td>\n",
       "      <td>Y</td>\n",
       "      <td>1.5</td>\n",
       "      <td>Flat</td>\n",
       "      <td>1</td>\n",
       "    </tr>\n",
       "    <tr>\n",
       "      <th>4</th>\n",
       "      <td>54</td>\n",
       "      <td>M</td>\n",
       "      <td>NAP</td>\n",
       "      <td>150</td>\n",
       "      <td>195</td>\n",
       "      <td>0</td>\n",
       "      <td>Normal</td>\n",
       "      <td>122</td>\n",
       "      <td>N</td>\n",
       "      <td>0.0</td>\n",
       "      <td>Up</td>\n",
       "      <td>0</td>\n",
       "    </tr>\n",
       "  </tbody>\n",
       "</table>\n",
       "</div>"
      ]
     },
     "execution_count": 82,
     "metadata": {},
     "output_type": "execute_result"
    }
   ],
   "execution_count": 82
  },
  {
   "metadata": {},
   "cell_type": "markdown",
   "source": "# Data preprocessing",
   "id": "6474149584c83fb5"
  },
  {
   "metadata": {
    "ExecuteTime": {
     "end_time": "2024-04-24T17:33:08.447129Z",
     "start_time": "2024-04-24T17:33:08.439095Z"
    }
   },
   "cell_type": "code",
   "source": "from sklearn.preprocessing import LabelEncoder",
   "id": "2e661d23d8bd92d9",
   "outputs": [],
   "execution_count": 83
  },
  {
   "metadata": {
    "ExecuteTime": {
     "end_time": "2024-04-24T17:33:08.488238Z",
     "start_time": "2024-04-24T17:33:08.479080Z"
    }
   },
   "cell_type": "code",
   "source": "le=LabelEncoder()",
   "id": "f9f3b55b2049dd24",
   "outputs": [],
   "execution_count": 84
  },
  {
   "metadata": {
    "ExecuteTime": {
     "end_time": "2024-04-24T17:33:08.546002Z",
     "start_time": "2024-04-24T17:33:08.532143Z"
    }
   },
   "cell_type": "code",
   "source": "df[\"Sex\"]=le.fit_transform(df.Sex)",
   "id": "fd072a0501d747e8",
   "outputs": [],
   "execution_count": 85
  },
  {
   "metadata": {
    "ExecuteTime": {
     "end_time": "2024-04-24T17:33:08.667110Z",
     "start_time": "2024-04-24T17:33:08.647060Z"
    }
   },
   "cell_type": "code",
   "source": "df.head()",
   "id": "ce97d1e8405da812",
   "outputs": [
    {
     "data": {
      "text/plain": [
       "   Age  Sex ChestPainType  RestingBP  Cholesterol  FastingBS RestingECG  \\\n",
       "0   40    1           ATA        140          289          0     Normal   \n",
       "1   49    0           NAP        160          180          0     Normal   \n",
       "2   37    1           ATA        130          283          0         ST   \n",
       "3   48    0           ASY        138          214          0     Normal   \n",
       "4   54    1           NAP        150          195          0     Normal   \n",
       "\n",
       "   MaxHR ExerciseAngina  Oldpeak ST_Slope  HeartDisease  \n",
       "0    172              N      0.0       Up             0  \n",
       "1    156              N      1.0     Flat             1  \n",
       "2     98              N      0.0       Up             0  \n",
       "3    108              Y      1.5     Flat             1  \n",
       "4    122              N      0.0       Up             0  "
      ],
      "text/html": [
       "<div>\n",
       "<style scoped>\n",
       "    .dataframe tbody tr th:only-of-type {\n",
       "        vertical-align: middle;\n",
       "    }\n",
       "\n",
       "    .dataframe tbody tr th {\n",
       "        vertical-align: top;\n",
       "    }\n",
       "\n",
       "    .dataframe thead th {\n",
       "        text-align: right;\n",
       "    }\n",
       "</style>\n",
       "<table border=\"1\" class=\"dataframe\">\n",
       "  <thead>\n",
       "    <tr style=\"text-align: right;\">\n",
       "      <th></th>\n",
       "      <th>Age</th>\n",
       "      <th>Sex</th>\n",
       "      <th>ChestPainType</th>\n",
       "      <th>RestingBP</th>\n",
       "      <th>Cholesterol</th>\n",
       "      <th>FastingBS</th>\n",
       "      <th>RestingECG</th>\n",
       "      <th>MaxHR</th>\n",
       "      <th>ExerciseAngina</th>\n",
       "      <th>Oldpeak</th>\n",
       "      <th>ST_Slope</th>\n",
       "      <th>HeartDisease</th>\n",
       "    </tr>\n",
       "  </thead>\n",
       "  <tbody>\n",
       "    <tr>\n",
       "      <th>0</th>\n",
       "      <td>40</td>\n",
       "      <td>1</td>\n",
       "      <td>ATA</td>\n",
       "      <td>140</td>\n",
       "      <td>289</td>\n",
       "      <td>0</td>\n",
       "      <td>Normal</td>\n",
       "      <td>172</td>\n",
       "      <td>N</td>\n",
       "      <td>0.0</td>\n",
       "      <td>Up</td>\n",
       "      <td>0</td>\n",
       "    </tr>\n",
       "    <tr>\n",
       "      <th>1</th>\n",
       "      <td>49</td>\n",
       "      <td>0</td>\n",
       "      <td>NAP</td>\n",
       "      <td>160</td>\n",
       "      <td>180</td>\n",
       "      <td>0</td>\n",
       "      <td>Normal</td>\n",
       "      <td>156</td>\n",
       "      <td>N</td>\n",
       "      <td>1.0</td>\n",
       "      <td>Flat</td>\n",
       "      <td>1</td>\n",
       "    </tr>\n",
       "    <tr>\n",
       "      <th>2</th>\n",
       "      <td>37</td>\n",
       "      <td>1</td>\n",
       "      <td>ATA</td>\n",
       "      <td>130</td>\n",
       "      <td>283</td>\n",
       "      <td>0</td>\n",
       "      <td>ST</td>\n",
       "      <td>98</td>\n",
       "      <td>N</td>\n",
       "      <td>0.0</td>\n",
       "      <td>Up</td>\n",
       "      <td>0</td>\n",
       "    </tr>\n",
       "    <tr>\n",
       "      <th>3</th>\n",
       "      <td>48</td>\n",
       "      <td>0</td>\n",
       "      <td>ASY</td>\n",
       "      <td>138</td>\n",
       "      <td>214</td>\n",
       "      <td>0</td>\n",
       "      <td>Normal</td>\n",
       "      <td>108</td>\n",
       "      <td>Y</td>\n",
       "      <td>1.5</td>\n",
       "      <td>Flat</td>\n",
       "      <td>1</td>\n",
       "    </tr>\n",
       "    <tr>\n",
       "      <th>4</th>\n",
       "      <td>54</td>\n",
       "      <td>1</td>\n",
       "      <td>NAP</td>\n",
       "      <td>150</td>\n",
       "      <td>195</td>\n",
       "      <td>0</td>\n",
       "      <td>Normal</td>\n",
       "      <td>122</td>\n",
       "      <td>N</td>\n",
       "      <td>0.0</td>\n",
       "      <td>Up</td>\n",
       "      <td>0</td>\n",
       "    </tr>\n",
       "  </tbody>\n",
       "</table>\n",
       "</div>"
      ]
     },
     "execution_count": 86,
     "metadata": {},
     "output_type": "execute_result"
    }
   ],
   "execution_count": 86
  },
  {
   "metadata": {
    "ExecuteTime": {
     "end_time": "2024-04-24T17:33:08.885638Z",
     "start_time": "2024-04-24T17:33:08.856933Z"
    }
   },
   "cell_type": "code",
   "source": [
    "df[\"ChestPainType\"]=le.fit_transform(df.ChestPainType)\n",
    "df[\"RestingECG\"]=le.fit_transform(df.RestingECG)\n",
    "df[\"ExerciseAngina\"]=le.fit_transform(df.ExerciseAngina)\n",
    "df[\"ST_Slope\"]=le.fit_transform(df.ST_Slope)\n",
    "df.head()"
   ],
   "id": "1fb4564fad5e3dbc",
   "outputs": [
    {
     "data": {
      "text/plain": [
       "   Age  Sex  ChestPainType  RestingBP  Cholesterol  FastingBS  RestingECG  \\\n",
       "0   40    1              1        140          289          0           1   \n",
       "1   49    0              2        160          180          0           1   \n",
       "2   37    1              1        130          283          0           2   \n",
       "3   48    0              0        138          214          0           1   \n",
       "4   54    1              2        150          195          0           1   \n",
       "\n",
       "   MaxHR  ExerciseAngina  Oldpeak  ST_Slope  HeartDisease  \n",
       "0    172               0      0.0         2             0  \n",
       "1    156               0      1.0         1             1  \n",
       "2     98               0      0.0         2             0  \n",
       "3    108               1      1.5         1             1  \n",
       "4    122               0      0.0         2             0  "
      ],
      "text/html": [
       "<div>\n",
       "<style scoped>\n",
       "    .dataframe tbody tr th:only-of-type {\n",
       "        vertical-align: middle;\n",
       "    }\n",
       "\n",
       "    .dataframe tbody tr th {\n",
       "        vertical-align: top;\n",
       "    }\n",
       "\n",
       "    .dataframe thead th {\n",
       "        text-align: right;\n",
       "    }\n",
       "</style>\n",
       "<table border=\"1\" class=\"dataframe\">\n",
       "  <thead>\n",
       "    <tr style=\"text-align: right;\">\n",
       "      <th></th>\n",
       "      <th>Age</th>\n",
       "      <th>Sex</th>\n",
       "      <th>ChestPainType</th>\n",
       "      <th>RestingBP</th>\n",
       "      <th>Cholesterol</th>\n",
       "      <th>FastingBS</th>\n",
       "      <th>RestingECG</th>\n",
       "      <th>MaxHR</th>\n",
       "      <th>ExerciseAngina</th>\n",
       "      <th>Oldpeak</th>\n",
       "      <th>ST_Slope</th>\n",
       "      <th>HeartDisease</th>\n",
       "    </tr>\n",
       "  </thead>\n",
       "  <tbody>\n",
       "    <tr>\n",
       "      <th>0</th>\n",
       "      <td>40</td>\n",
       "      <td>1</td>\n",
       "      <td>1</td>\n",
       "      <td>140</td>\n",
       "      <td>289</td>\n",
       "      <td>0</td>\n",
       "      <td>1</td>\n",
       "      <td>172</td>\n",
       "      <td>0</td>\n",
       "      <td>0.0</td>\n",
       "      <td>2</td>\n",
       "      <td>0</td>\n",
       "    </tr>\n",
       "    <tr>\n",
       "      <th>1</th>\n",
       "      <td>49</td>\n",
       "      <td>0</td>\n",
       "      <td>2</td>\n",
       "      <td>160</td>\n",
       "      <td>180</td>\n",
       "      <td>0</td>\n",
       "      <td>1</td>\n",
       "      <td>156</td>\n",
       "      <td>0</td>\n",
       "      <td>1.0</td>\n",
       "      <td>1</td>\n",
       "      <td>1</td>\n",
       "    </tr>\n",
       "    <tr>\n",
       "      <th>2</th>\n",
       "      <td>37</td>\n",
       "      <td>1</td>\n",
       "      <td>1</td>\n",
       "      <td>130</td>\n",
       "      <td>283</td>\n",
       "      <td>0</td>\n",
       "      <td>2</td>\n",
       "      <td>98</td>\n",
       "      <td>0</td>\n",
       "      <td>0.0</td>\n",
       "      <td>2</td>\n",
       "      <td>0</td>\n",
       "    </tr>\n",
       "    <tr>\n",
       "      <th>3</th>\n",
       "      <td>48</td>\n",
       "      <td>0</td>\n",
       "      <td>0</td>\n",
       "      <td>138</td>\n",
       "      <td>214</td>\n",
       "      <td>0</td>\n",
       "      <td>1</td>\n",
       "      <td>108</td>\n",
       "      <td>1</td>\n",
       "      <td>1.5</td>\n",
       "      <td>1</td>\n",
       "      <td>1</td>\n",
       "    </tr>\n",
       "    <tr>\n",
       "      <th>4</th>\n",
       "      <td>54</td>\n",
       "      <td>1</td>\n",
       "      <td>2</td>\n",
       "      <td>150</td>\n",
       "      <td>195</td>\n",
       "      <td>0</td>\n",
       "      <td>1</td>\n",
       "      <td>122</td>\n",
       "      <td>0</td>\n",
       "      <td>0.0</td>\n",
       "      <td>2</td>\n",
       "      <td>0</td>\n",
       "    </tr>\n",
       "  </tbody>\n",
       "</table>\n",
       "</div>"
      ]
     },
     "execution_count": 87,
     "metadata": {},
     "output_type": "execute_result"
    }
   ],
   "execution_count": 87
  },
  {
   "metadata": {
    "ExecuteTime": {
     "end_time": "2024-04-24T17:33:09.764440Z",
     "start_time": "2024-04-24T17:33:09.102092Z"
    }
   },
   "cell_type": "code",
   "source": [
    "import matplotlib.pyplot as plt\n",
    "import seaborn as sns\n",
    "sns.histplot(df.Age,kde=True)\n",
    "plt.axvline(df['Age'].mean(), color='Red')\n",
    "plt.axvline(df['Age'].median(), color= 'Green')\n",
    "plt.axvline(df['Age'].mode()[0], color='Blue')\n",
    "plt.plot()"
   ],
   "id": "ad77e4bd9bb76ce1",
   "outputs": [
    {
     "data": {
      "text/plain": [
       "[]"
      ]
     },
     "execution_count": 88,
     "metadata": {},
     "output_type": "execute_result"
    },
    {
     "data": {
      "text/plain": [
       "<Figure size 640x480 with 1 Axes>"
      ],
      "image/png": "[encoded data removed]"
     },
     "metadata": {},
     "output_type": "display_data"
    }
   ],
   "execution_count": 88
  },
  {
   "metadata": {
    "ExecuteTime": {
     "end_time": "2024-04-24T17:33:09.776019Z",
     "start_time": "2024-04-24T17:33:09.767978Z"
    }
   },
   "cell_type": "code",
   "source": "df.columns",
   "id": "8edd9f3ee4adc53c",
   "outputs": [
    {
     "data": {
      "text/plain": [
       "Index(['Age', 'Sex', 'ChestPainType', 'RestingBP', 'Cholesterol', 'FastingBS',\n",
       "       'RestingECG', 'MaxHR', 'ExerciseAngina', 'Oldpeak', 'ST_Slope',\n",
       "       'HeartDisease'],\n",
       "      dtype='object')"
      ]
     },
     "execution_count": 89,
     "metadata": {},
     "output_type": "execute_result"
    }
   ],
   "execution_count": 89
  },
  {
   "metadata": {
    "ExecuteTime": {
     "end_time": "2024-04-24T17:33:10.421754Z",
     "start_time": "2024-04-24T17:33:09.778078Z"
    }
   },
   "cell_type": "code",
   "source": [
    "sns.histplot(df.RestingBP\n",
    ",kde=True)"
   ],
   "id": "e3286af5bc94e61f",
   "outputs": [
    {
     "data": {
      "text/plain": [
       "<Axes: xlabel='RestingBP', ylabel='Count'>"
      ]
     },
     "execution_count": 90,
     "metadata": {},
     "output_type": "execute_result"
    },
    {
     "data": {
      "text/plain": [
       "<Figure size 640x480 with 1 Axes>"
      ],
      "image/png": "[encoded data removed]"
     },
     "metadata": {},
     "output_type": "display_data"
    }
   ],
   "execution_count": 90
  },
  {
   "metadata": {},
   "cell_type": "markdown",
   "source": "has outliers",
   "id": "bca1c2800e87a162"
  },
  {
   "metadata": {
    "ExecuteTime": {
     "end_time": "2024-04-24T17:33:10.441837Z",
     "start_time": "2024-04-24T17:33:10.427869Z"
    }
   },
   "cell_type": "code",
   "source": "df1=df[df.RestingBP<=(df.RestingBP.mean()+3*df.RestingBP.std())]",
   "id": "ae298376d891606e",
   "outputs": [],
   "execution_count": 91
  },
  {
   "metadata": {
    "ExecuteTime": {
     "end_time": "2024-04-24T17:33:10.460488Z",
     "start_time": "2024-04-24T17:33:10.441837Z"
    }
   },
   "cell_type": "code",
   "source": "df1.shape",
   "id": "e7928f42da7ad4b4",
   "outputs": [
    {
     "data": {
      "text/plain": [
       "(911, 12)"
      ]
     },
     "execution_count": 92,
     "metadata": {},
     "output_type": "execute_result"
    }
   ],
   "execution_count": 92
  },
  {
   "metadata": {
    "ExecuteTime": {
     "end_time": "2024-04-24T17:33:10.495642Z",
     "start_time": "2024-04-24T17:33:10.460488Z"
    }
   },
   "cell_type": "code",
   "source": "df1[df.Cholesterol>(df.Cholesterol.mean()+3*df.Cholesterol.std())]",
   "id": "c3b33a0da38d0fac",
   "outputs": [
    {
     "name": "stderr",
     "output_type": "stream",
     "text": [
      "C:\\Users\\supriya shrivastv\\AppData\\Local\\Temp\\ipykernel_6500\\3454830836.py:1: UserWarning: Boolean Series key will be reindexed to match DataFrame index.\n",
      "  df1[df.Cholesterol>(df.Cholesterol.mean()+3*df.Cholesterol.std())]\n"
     ]
    },
    {
     "data": {
      "text/plain": [
       "     Age  Sex  ChestPainType  RestingBP  Cholesterol  FastingBS  RestingECG  \\\n",
       "76    32    1              0        118          529          0           1   \n",
       "149   54    1              0        130          603          1           1   \n",
       "616   67    0              2        115          564          0           0   \n",
       "\n",
       "     MaxHR  ExerciseAngina  Oldpeak  ST_Slope  HeartDisease  \n",
       "76     130               0      0.0         1             1  \n",
       "149    125               1      1.0         1             1  \n",
       "616    160               0      1.6         1             0  "
      ],
      "text/html": [
       "<div>\n",
       "<style scoped>\n",
       "    .dataframe tbody tr th:only-of-type {\n",
       "        vertical-align: middle;\n",
       "    }\n",
       "\n",
       "    .dataframe tbody tr th {\n",
       "        vertical-align: top;\n",
       "    }\n",
       "\n",
       "    .dataframe thead th {\n",
       "        text-align: right;\n",
       "    }\n",
       "</style>\n",
       "<table border=\"1\" class=\"dataframe\">\n",
       "  <thead>\n",
       "    <tr style=\"text-align: right;\">\n",
       "      <th></th>\n",
       "      <th>Age</th>\n",
       "      <th>Sex</th>\n",
       "      <th>ChestPainType</th>\n",
       "      <th>RestingBP</th>\n",
       "      <th>Cholesterol</th>\n",
       "      <th>FastingBS</th>\n",
       "      <th>RestingECG</th>\n",
       "      <th>MaxHR</th>\n",
       "      <th>ExerciseAngina</th>\n",
       "      <th>Oldpeak</th>\n",
       "      <th>ST_Slope</th>\n",
       "      <th>HeartDisease</th>\n",
       "    </tr>\n",
       "  </thead>\n",
       "  <tbody>\n",
       "    <tr>\n",
       "      <th>76</th>\n",
       "      <td>32</td>\n",
       "      <td>1</td>\n",
       "      <td>0</td>\n",
       "      <td>118</td>\n",
       "      <td>529</td>\n",
       "      <td>0</td>\n",
       "      <td>1</td>\n",
       "      <td>130</td>\n",
       "      <td>0</td>\n",
       "      <td>0.0</td>\n",
       "      <td>1</td>\n",
       "      <td>1</td>\n",
       "    </tr>\n",
       "    <tr>\n",
       "      <th>149</th>\n",
       "      <td>54</td>\n",
       "      <td>1</td>\n",
       "      <td>0</td>\n",
       "      <td>130</td>\n",
       "      <td>603</td>\n",
       "      <td>1</td>\n",
       "      <td>1</td>\n",
       "      <td>125</td>\n",
       "      <td>1</td>\n",
       "      <td>1.0</td>\n",
       "      <td>1</td>\n",
       "      <td>1</td>\n",
       "    </tr>\n",
       "    <tr>\n",
       "      <th>616</th>\n",
       "      <td>67</td>\n",
       "      <td>0</td>\n",
       "      <td>2</td>\n",
       "      <td>115</td>\n",
       "      <td>564</td>\n",
       "      <td>0</td>\n",
       "      <td>0</td>\n",
       "      <td>160</td>\n",
       "      <td>0</td>\n",
       "      <td>1.6</td>\n",
       "      <td>1</td>\n",
       "      <td>0</td>\n",
       "    </tr>\n",
       "  </tbody>\n",
       "</table>\n",
       "</div>"
      ]
     },
     "execution_count": 93,
     "metadata": {},
     "output_type": "execute_result"
    }
   ],
   "execution_count": 93
  },
  {
   "metadata": {
    "ExecuteTime": {
     "end_time": "2024-04-24T17:33:10.710966Z",
     "start_time": "2024-04-24T17:33:10.499243Z"
    }
   },
   "cell_type": "code",
   "source": [
    "plt.figure(figsize=(8, 6))\n",
    "plt.boxplot(df1['Cholesterol'])\n",
    "plt.xlabel('Cholesterol')\n",
    "plt.ylabel('Value')\n",
    "plt.show()"
   ],
   "id": "cdcaa7beaf279505",
   "outputs": [
    {
     "data": {
      "text/plain": [
       "<Figure size 800x600 with 1 Axes>"
      ],
      "image/png": "[encoded data removed]"
     },
     "metadata": {},
     "output_type": "display_data"
    }
   ],
   "execution_count": 94
  },
  {
   "metadata": {
    "ExecuteTime": {
     "end_time": "2024-04-24T17:33:10.731665Z",
     "start_time": "2024-04-24T17:33:10.710966Z"
    }
   },
   "cell_type": "code",
   "source": [
    "df2 = df1[df.Cholesterol<=(df.Cholesterol.mean()+3*df.Cholesterol.std())]\n",
    "df2.shape"
   ],
   "id": "8e21c2b0cdbf4b0e",
   "outputs": [
    {
     "name": "stderr",
     "output_type": "stream",
     "text": [
      "C:\\Users\\supriya shrivastv\\AppData\\Local\\Temp\\ipykernel_6500\\465507917.py:1: UserWarning: Boolean Series key will be reindexed to match DataFrame index.\n",
      "  df2 = df1[df.Cholesterol<=(df.Cholesterol.mean()+3*df.Cholesterol.std())]\n"
     ]
    },
    {
     "data": {
      "text/plain": [
       "(908, 12)"
      ]
     },
     "execution_count": 95,
     "metadata": {},
     "output_type": "execute_result"
    }
   ],
   "execution_count": 95
  },
  {
   "metadata": {
    "ExecuteTime": {
     "end_time": "2024-04-24T17:33:10.747624Z",
     "start_time": "2024-04-24T17:33:10.731665Z"
    }
   },
   "cell_type": "code",
   "source": "df2.groupby('Sex').size()",
   "id": "111ccbf8ec276f7d",
   "outputs": [
    {
     "data": {
      "text/plain": [
       "Sex\n",
       "0    190\n",
       "1    718\n",
       "dtype: int64"
      ]
     },
     "execution_count": 96,
     "metadata": {},
     "output_type": "execute_result"
    }
   ],
   "execution_count": 96
  },
  {
   "metadata": {
    "ExecuteTime": {
     "end_time": "2024-04-24T17:33:10.995971Z",
     "start_time": "2024-04-24T17:33:10.747624Z"
    }
   },
   "cell_type": "code",
   "source": [
    "plt.boxplot(df.MaxHR)\n",
    "plt.plot()"
   ],
   "id": "329891f415d001fc",
   "outputs": [
    {
     "data": {
      "text/plain": [
       "[]"
      ]
     },
     "execution_count": 97,
     "metadata": {},
     "output_type": "execute_result"
    },
    {
     "data": {
      "text/plain": [
       "<Figure size 640x480 with 1 Axes>"
      ],
      "image/png": "[encoded data removed]"
     },
     "metadata": {},
     "output_type": "display_data"
    }
   ],
   "execution_count": 97
  },
  {
   "metadata": {
    "ExecuteTime": {
     "end_time": "2024-04-24T17:33:11.010829Z",
     "start_time": "2024-04-24T17:33:10.998029Z"
    }
   },
   "cell_type": "code",
   "source": [
    "df3 = df2[df2.MaxHR<=(df2.MaxHR.mean()+3*df2.MaxHR.std())]\n",
    "df3.shape"
   ],
   "id": "3fcff58770a96b53",
   "outputs": [
    {
     "data": {
      "text/plain": [
       "(908, 12)"
      ]
     },
     "execution_count": 98,
     "metadata": {},
     "output_type": "execute_result"
    }
   ],
   "execution_count": 98
  },
  {
   "metadata": {
    "ExecuteTime": {
     "end_time": "2024-04-24T17:33:11.025086Z",
     "start_time": "2024-04-24T17:33:11.010829Z"
    }
   },
   "cell_type": "code",
   "source": "df3.isnull().sum()",
   "id": "2568284844ed81bb",
   "outputs": [
    {
     "data": {
      "text/plain": [
       "Age               0\n",
       "Sex               0\n",
       "ChestPainType     0\n",
       "RestingBP         0\n",
       "Cholesterol       0\n",
       "FastingBS         0\n",
       "RestingECG        0\n",
       "MaxHR             0\n",
       "ExerciseAngina    0\n",
       "Oldpeak           0\n",
       "ST_Slope          0\n",
       "HeartDisease      0\n",
       "dtype: int64"
      ]
     },
     "execution_count": 99,
     "metadata": {},
     "output_type": "execute_result"
    }
   ],
   "execution_count": 99
  },
  {
   "metadata": {
    "ExecuteTime": {
     "end_time": "2024-04-24T17:33:11.202136Z",
     "start_time": "2024-04-24T17:33:11.027654Z"
    }
   },
   "cell_type": "code",
   "source": [
    "plt.boxplot(df3.Oldpeak)\n",
    "plt.plot()"
   ],
   "id": "f974bcb4c1f6935a",
   "outputs": [
    {
     "data": {
      "text/plain": [
       "[]"
      ]
     },
     "execution_count": 100,
     "metadata": {},
     "output_type": "execute_result"
    },
    {
     "data": {
      "text/plain": [
       "<Figure size 640x480 with 1 Axes>"
      ],
      "image/png": "[encoded data removed]"
     },
     "metadata": {},
     "output_type": "display_data"
    }
   ],
   "execution_count": 100
  },
  {
   "metadata": {
    "ExecuteTime": {
     "end_time": "2024-04-24T17:33:11.345595Z",
     "start_time": "2024-04-24T17:33:11.332181Z"
    }
   },
   "cell_type": "code",
   "source": [
    "df4 = df3[df3.Oldpeak<=(df2.Oldpeak.mean()+3*df2.Oldpeak.std())]\n",
    "df4.shape"
   ],
   "id": "90c7752f456073de",
   "outputs": [
    {
     "data": {
      "text/plain": [
       "(902, 12)"
      ]
     },
     "execution_count": 101,
     "metadata": {},
     "output_type": "execute_result"
    }
   ],
   "execution_count": 101
  },
  {
   "metadata": {},
   "cell_type": "markdown",
   "source": "# Scaler",
   "id": "8ebce950157518fe"
  },
  {
   "metadata": {
    "ExecuteTime": {
     "end_time": "2024-04-24T17:33:11.417991Z",
     "start_time": "2024-04-24T17:33:11.406901Z"
    }
   },
   "cell_type": "code",
   "source": [
    "from sklearn.preprocessing import StandardScaler\n",
    "X=df4.drop(columns=[\"HeartDisease\"])\n",
    "X=StandardScaler().fit_transform(X)"
   ],
   "id": "bccd49ae01e380ef",
   "outputs": [],
   "execution_count": 102
  },
  {
   "metadata": {},
   "cell_type": "markdown",
   "source": "# Train and Test",
   "id": "1da94531ed181ff1"
  },
  {
   "metadata": {
    "ExecuteTime": {
     "end_time": "2024-04-24T17:33:18.729144Z",
     "start_time": "2024-04-24T17:33:18.717813Z"
    }
   },
   "cell_type": "code",
   "source": [
    "from sklearn.model_selection import train_test_split\n",
    "y=df4[\"HeartDisease\"]"
   ],
   "id": "bef9745368790e89",
   "outputs": [],
   "execution_count": 106
  },
  {
   "metadata": {
    "ExecuteTime": {
     "end_time": "2024-04-24T17:33:19.792407Z",
     "start_time": "2024-04-24T17:33:19.783323Z"
    }
   },
   "cell_type": "code",
   "source": "X_train,X_test,y_train,y_test=train_test_split(X,y,test_size=0.2,random_state=42)",
   "id": "e56936825db74f0a",
   "outputs": [],
   "execution_count": 107
  },
  {
   "metadata": {},
   "cell_type": "markdown",
   "source": "# Models",
   "id": "a6c445c43598615b"
  },
  {
   "metadata": {
    "ExecuteTime": {
     "end_time": "2024-04-24T17:36:11.022286Z",
     "start_time": "2024-04-24T17:36:09.007001Z"
    }
   },
   "cell_type": "code",
   "source": [
    "from sklearn.linear_model import LogisticRegression\n",
    "from sklearn.ensemble import RandomForestClassifier\n",
    "from sklearn.tree import DecisionTreeClassifier\n",
    "from sklearn.model_selection import GridSearchCV"
   ],
   "id": "fdd5aec74d580abc",
   "outputs": [],
   "execution_count": 109
  },
  {
   "metadata": {
    "ExecuteTime": {
     "end_time": "2024-04-24T17:37:51.461219Z",
     "start_time": "2024-04-24T17:37:48.418889Z"
    }
   },
   "cell_type": "code",
   "source": [
    "lr=GridSearchCV(LogisticRegression(max_iter=1000),param_grid={\"C\":[0.1,0.5,1,5,10]},cv=5)\n",
    "lr.fit(X_train,y_train)\n",
    "lr.score(X_test,y_test)"
   ],
   "id": "e602cc8ae7075f5b",
   "outputs": [
    {
     "data": {
      "text/plain": [
       "0.850828729281768"
      ]
     },
     "execution_count": 111,
     "metadata": {},
     "output_type": "execute_result"
    }
   ],
   "execution_count": 111
  },
  {
   "metadata": {
    "ExecuteTime": {
     "end_time": "2024-04-24T17:39:43.420592Z",
     "start_time": "2024-04-24T17:39:42.679439Z"
    }
   },
   "cell_type": "code",
   "source": [
    "rfc=GridSearchCV(RandomForestClassifier(),param_grid={'n_estimators':[10,20,30]},cv=5)\n",
    "rfc.fit(X_train,y_train)\n",
    "rfc.score(X_test,y_test)"
   ],
   "id": "861aaeea691d117d",
   "outputs": [
    {
     "data": {
      "text/plain": [
       "0.8674033149171271"
      ]
     },
     "execution_count": 113,
     "metadata": {},
     "output_type": "execute_result"
    }
   ],
   "execution_count": 113
  },
  {
   "metadata": {
    "ExecuteTime": {
     "end_time": "2024-04-24T17:41:07.437704Z",
     "start_time": "2024-04-24T17:41:07.252946Z"
    }
   },
   "cell_type": "code",
   "source": [
    "dtc=GridSearchCV(DecisionTreeClassifier(),param_grid={'max_depth':[3,5,7,9]},cv=5)\n",
    "dtc.fit(X_train,y_train)\n",
    "dtc.score(X_test,y_test)"
   ],
   "id": "2c99bb4d9f0cfbf2",
   "outputs": [
    {
     "data": {
      "text/plain": [
       "0.8453038674033149"
      ]
     },
     "execution_count": 115,
     "metadata": {},
     "output_type": "execute_result"
    }
   ],
   "execution_count": 115
  },
  {
   "metadata": {},
   "cell_type": "markdown",
   "source": "# Confusion Matrix\"",
   "id": "47cdc99c949aa4e4"
  },
  {
   "metadata": {
    "ExecuteTime": {
     "end_time": "2024-04-24T17:47:44.752699Z",
     "start_time": "2024-04-24T17:47:44.739463Z"
    }
   },
   "cell_type": "code",
   "source": [
    "from sklearn.metrics import confusion_matrix\n",
    "cm=confusion_matrix(y_test,lr.predict(X_test))"
   ],
   "id": "a122413c7c886cde",
   "outputs": [],
   "execution_count": 139
  },
  {
   "metadata": {
    "ExecuteTime": {
     "end_time": "2024-04-24T17:48:19.649088Z",
     "start_time": "2024-04-24T17:48:18.883920Z"
    }
   },
   "cell_type": "code",
   "source": [
    "plt.figure(figsize=(8,6))\n",
    "sns.heatmap(cm,annot=True)\n",
    "plt.xlabel(\"Predicted\")\n",
    "plt.ylabel(\"Actual\")\n",
    "plt.show()"
   ],
   "id": "93a985db5bd717a5",
   "outputs": [
    {
     "data": {
      "text/plain": [
       "<Figure size 800x600 with 2 Axes>"
      ],
      "image/png": "[encoded data removed]"
     },
     "metadata": {},
     "output_type": "display_data"
    }
   ],
   "execution_count": 140
  },
  {
   "metadata": {
    "ExecuteTime": {
     "end_time": "2024-04-24T17:48:40.665431Z",
     "start_time": "2024-04-24T17:48:40.338891Z"
    }
   },
   "cell_type": "code",
   "source": [
    "cm=confusion_matrix(y_test,rfc.predict(X_test))\n",
    "plt.figure(figsize=(8,6))\n",
    "sns.heatmap(cm,annot=True)\n",
    "plt.xlabel(\"Predicted\") \n",
    "plt.ylabel(\"Actual\")"
   ],
   "id": "2ec5b8e8f4f6b82e",
   "outputs": [
    {
     "data": {
      "text/plain": [
       "Text(70.72222222222221, 0.5, 'Actual')"
      ]
     },
     "execution_count": 141,
     "metadata": {},
     "output_type": "execute_result"
    },
    {
     "data": {
      "text/plain": [
       "<Figure size 800x600 with 2 Axes>"
      ],
      "image/png": "[encoded data removed]"
     },
     "metadata": {},
     "output_type": "display_data"
    }
   ],
   "execution_count": 141
  },
  {
   "metadata": {
    "ExecuteTime": {
     "end_time": "2024-04-24T17:49:00.933224Z",
     "start_time": "2024-04-24T17:49:00.559227Z"
    }
   },
   "cell_type": "code",
   "source": [
    "cm=confusion_matrix(y_test,dtc.predict(X_test))\n",
    "plt.figure(figsize=(8,6))\n",
    "sns.heatmap(cm,annot=True)\n",
    "plt.xlabel(\"Predicted\")\n",
    "plt.ylabel(\"Actual\")"
   ],
   "id": "7d1145a5fc16568b",
   "outputs": [
    {
     "data": {
      "text/plain": [
       "Text(70.72222222222221, 0.5, 'Actual')"
      ]
     },
     "execution_count": 142,
     "metadata": {},
     "output_type": "execute_result"
    },
    {
     "data": {
      "text/plain": [
       "<Figure size 800x600 with 2 Axes>"
      ],
      "image/png": "[encoded data removed]"
     },
     "metadata": {},
     "output_type": "display_data"
    }
   ],
   "execution_count": 142
  },
  {
   "metadata": {},
   "cell_type": "markdown",
   "source": "# PCA",
   "id": "1586cdb433857ef0"
  },
  {
   "metadata": {
    "ExecuteTime": {
     "end_time": "2024-04-24T17:50:56.157225Z",
     "start_time": "2024-04-24T17:50:56.147252Z"
    }
   },
   "cell_type": "code",
   "source": [
    "from sklearn.decomposition import PCA\n",
    "pca=PCA(n_components=9)\n",
    "X_pca=pca.fit_transform(X)\n"
   ],
   "id": "29db0be4ab7015da",
   "outputs": [],
   "execution_count": 153
  },
  {
   "metadata": {
    "ExecuteTime": {
     "end_time": "2024-04-24T17:50:57.024176Z",
     "start_time": "2024-04-24T17:50:57.013726Z"
    }
   },
   "cell_type": "code",
   "source": "X_train,X_test,y_train,y_test=train_test_split(X_pca,y,test_size=0.2,random_state=42)",
   "id": "c1a4cbcf5ccef845",
   "outputs": [],
   "execution_count": 154
  },
  {
   "metadata": {
    "ExecuteTime": {
     "end_time": "2024-04-24T17:50:58.839479Z",
     "start_time": "2024-04-24T17:50:57.829185Z"
    }
   },
   "cell_type": "code",
   "source": [
    "lr=GridSearchCV(LogisticRegression(max_iter=1000),param_grid={\"C\":[0.1,0.5,1,5,10]},cv=5)\n",
    "lr.fit(X_train,y_train)\n",
    "lr.score(X_test,y_test)"
   ],
   "id": "2b6a02317f19be05",
   "outputs": [
    {
     "data": {
      "text/plain": [
       "0.856353591160221"
      ]
     },
     "execution_count": 155,
     "metadata": {},
     "output_type": "execute_result"
    }
   ],
   "execution_count": 155
  },
  {
   "metadata": {
    "ExecuteTime": {
     "end_time": "2024-04-24T17:51:01.415246Z",
     "start_time": "2024-04-24T17:50:59.859467Z"
    }
   },
   "cell_type": "code",
   "source": [
    "rfc=GridSearchCV(RandomForestClassifier(),param_grid={'n_estimators':[10,20,30]},cv=5)\n",
    "rfc.fit(X_train,y_train)\n",
    "rfc.score(X_test,y_test)"
   ],
   "id": "86492904da752dd4",
   "outputs": [
    {
     "data": {
      "text/plain": [
       "0.8453038674033149"
      ]
     },
     "execution_count": 156,
     "metadata": {},
     "output_type": "execute_result"
    }
   ],
   "execution_count": 156
  },
  {
   "metadata": {
    "ExecuteTime": {
     "end_time": "2024-04-24T17:51:01.570684Z",
     "start_time": "2024-04-24T17:51:01.419215Z"
    }
   },
   "cell_type": "code",
   "source": [
    "dtc=GridSearchCV(DecisionTreeClassifier(),param_grid={'max_depth':[3,5,7,9]},cv=5)\n",
    "dtc.fit(X_train,y_train)\n",
    "dtc.score(X_test,y_test)"
   ],
   "id": "977aa22f9689600f",
   "outputs": [
    {
     "data": {
      "text/plain": [
       "0.8121546961325967"
      ]
     },
     "execution_count": 157,
     "metadata": {},
     "output_type": "execute_result"
    }
   ],
   "execution_count": 157
  },
  {
   "metadata": {
    "ExecuteTime": {
     "end_time": "2024-04-24T17:44:02.983862Z",
     "start_time": "2024-04-24T17:44:02.968935Z"
    }
   },
   "cell_type": "code",
   "source": "pca.explained_variance_ratio_",
   "id": "ef5a2d2dc592fa82",
   "outputs": [
    {
     "data": {
      "text/plain": [
       "array([9.20087086e-01, 5.06637473e-02, 2.35746294e-02, 5.43957588e-03,\n",
       "       9.11206560e-05, 6.00287655e-05, 2.94138909e-05])"
      ]
     },
     "execution_count": 135,
     "metadata": {},
     "output_type": "execute_result"
    }
   ],
   "execution_count": 135
  },
  {
   "metadata": {
    "ExecuteTime": {
     "end_time": "2024-04-24T17:44:03.857956Z",
     "start_time": "2024-04-24T17:44:03.848086Z"
    }
   },
   "cell_type": "code",
   "source": "pca.components_",
   "id": "3d7bfaaaa34822d6",
   "outputs": [
    {
     "data": {
      "text/plain": [
       "array([[-8.59590525e-03, -7.95238997e-04,  6.91301770e-04,\n",
       "         1.98665295e-02,  9.98019179e-01, -1.06996835e-03,\n",
       "        -1.13366055e-03,  5.90330667e-02, -1.83152144e-04,\n",
       "         3.50165593e-04,  7.42463938e-04],\n",
       "       [ 1.71792305e-01,  2.26372382e-03, -1.04569928e-02,\n",
       "         2.12852482e-01,  5.40556572e-02,  1.38696182e-03,\n",
       "         3.17813707e-03, -9.60175671e-01,  7.61319176e-03,\n",
       "         8.61417744e-03, -7.95169432e-03],\n",
       "       [-1.11488461e-01,  1.65753825e-04, -3.40515317e-03,\n",
       "        -9.65689109e-01,  3.20018329e-02, -2.09573413e-03,\n",
       "        -7.76988324e-04, -2.32244225e-01, -1.27189734e-03,\n",
       "        -5.86779189e-03, -8.38942390e-04],\n",
       "       [ 9.78381981e-01, -1.03271639e-03,  5.43080318e-03,\n",
       "        -1.47341593e-01,  2.90954920e-03,  6.88051153e-03,\n",
       "        -7.49949461e-03,  1.42752919e-01,  1.71475295e-03,\n",
       "         2.13753631e-02, -8.84884992e-03],\n",
       "       [-2.03754214e-02,  6.08668301e-02, -4.71457964e-01,\n",
       "        -3.84253183e-03, -4.46135914e-04,  2.42472905e-02,\n",
       "        -8.29945714e-03,  1.21158297e-02,  2.23503460e-01,\n",
       "         7.98565684e-01, -2.91766930e-01],\n",
       "       [-1.56915782e-02, -3.77259556e-03,  8.70374651e-01,\n",
       "        -2.07814039e-03, -3.75445628e-04, -1.16305538e-02,\n",
       "        -4.23072056e-02, -7.80499624e-03, -1.92213249e-02,\n",
       "         4.73577015e-01, -1.24708914e-01],\n",
       "       [-5.74889504e-03, -6.08618391e-03, -3.50955607e-02,\n",
       "         2.84737522e-03, -9.97888449e-04, -4.07745759e-02,\n",
       "        -9.95550132e-01, -3.57995044e-03, -2.97540799e-02,\n",
       "        -4.19424498e-02, -5.70016184e-02]])"
      ]
     },
     "execution_count": 136,
     "metadata": {},
     "output_type": "execute_result"
    }
   ],
   "execution_count": 136
  },
  {
   "metadata": {},
   "cell_type": "markdown",
   "source": "Hence pca decreases the accuracy of the model as it reduces the dimensionality of model.",
   "id": "756f3f895e3714b8"
  },
  {
   "metadata": {},
   "cell_type": "code",
   "outputs": [],
   "execution_count": null,
   "source": "",
   "id": "d39e42c1ffc399df"
  }
 ],
 "metadata": {
  "kernelspec": {
   "display_name": "Python 3",
   "language": "python",
   "name": "python3"
  },
  "language_info": {
   "codemirror_mode": {
    "name": "ipython",
    "version": 2
   },
   "file_extension": ".py",
   "mimetype": "text/x-python",
   "name": "python",
   "nbconvert_exporter": "python",
   "pygments_lexer": "ipython2",
   "version": "2.7.6"
  }
 },
 "nbformat": 4,
 "nbformat_minor": 5
}
